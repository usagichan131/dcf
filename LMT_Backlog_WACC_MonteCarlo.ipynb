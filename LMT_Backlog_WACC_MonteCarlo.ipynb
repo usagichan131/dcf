{
 "cells": [
  {
   "cell_type": "markdown",
   "id": "b1d7c556",
   "metadata": {},
   "source": [
    "# Lockheed Martin (LMT) — Backlog‑Aware Monte Carlo DCF  \n",
    "Generated **2025-07-14**\n",
    "\n",
    "This notebook extends the simple Monte Carlo DCF by explicitly incorporating  \n",
    "\n",
    "* **Record backlog (~$176 B, FY‑2024)** and a configurable burn schedule.  \n",
    "* A **live‑computed WACC** based on current beta, market cap, debt, and tax rate (no manual entry).  \n",
    "\n",
    "> **Change anything in the “Inputs & Assumptions” section to refresh the valuation.**\n"
   ]
  },
  {
   "cell_type": "code",
   "execution_count": 107,
   "id": "dcaa7768",
   "metadata": {},
   "outputs": [],
   "source": [
    "# Uncomment if using Colab\n",
    "# !pip install yfinance pandas numpy matplotlib requests scipy"
   ]
  },
  {
   "cell_type": "code",
   "execution_count": 108,
   "id": "c9a567dd",
   "metadata": {},
   "outputs": [],
   "source": [
    "import yfinance as yf, pandas as pd, numpy as np, requests, matplotlib.pyplot as plt\n",
    "from scipy.stats import gmean\n",
    "plt.rcParams['figure.figsize'] = (10,6)\n",
    "np.random.seed(42)"
   ]
  },
  {
   "cell_type": "markdown",
   "id": "c9206bc2",
   "metadata": {},
   "source": [
    "## 1  Pull latest financial data"
   ]
  },
  {
   "cell_type": "code",
   "execution_count": 92,
   "id": "3640c036",
   "metadata": {},
   "outputs": [],
   "source": [
    "ticker = 'KTOS'\n",
    "tkr = yf.Ticker(ticker)\n",
    "\n",
    "price_hist = tkr.history(period='1d')  # last close\n",
    "info = tkr.info\n",
    "beta = info.get('beta')\n",
    "\n",
    "income = tkr.income_stmt.T.sort_index()\n",
    "balance = tkr.balance_sheet.T.sort_index()\n",
    "cashflow = tkr.cashflow.T.sort_index()\n",
    "\n",
    "# Free Cash Flow history\n",
    "cashflow['FCF'] = cashflow['Free Cash Flow']\n",
    "fcf_hist = cashflow['FCF'].dropna()\n",
    "fcf_last = fcf_hist.iloc[-1]"
   ]
  },
  {
   "cell_type": "markdown",
   "id": "5b2cfa07",
   "metadata": {},
   "source": [
    "## 2  Compute dynamic WACC"
   ]
  },
  {
   "cell_type": "code",
   "execution_count": 93,
   "id": "9fb6e651",
   "metadata": {},
   "outputs": [
    {
     "name": "stdout",
     "output_type": "stream",
     "text": [
      "Computed WACC: 9.63%  |  Cost of Equity: 10.01%  |  Cost of Debt: 3.33%\n"
     ]
    }
   ],
   "source": [
    "def compute_wacc(beta, income, balance, price_hist, risk_free=0.045, mrp=0.055):\n",
    "    # liệt kê mọi “alias” Yahoo có thể dùng cho nợ\n",
    "    debt_cols = [\n",
    "    \"Long Term Debt And Capital Lease Obligation\",\n",
    "    \"Long Term Debt\",\n",
    "    \"Current Debt And Capital Lease Obligation\",\n",
    "    \"Current Debt\",\n",
    "    \"Short Long Term Debt\"          # có thể không tồn tại\n",
    "    ]\n",
    "\n",
    "    # cộng giá trị mới nhất của những cột thật sự xuất hiện; NaN biến thành 0\n",
    "    total_debt = balance.loc[balance.index[-1], balance.columns.intersection(debt_cols)].fillna(0).sum()\n",
    "\n",
    "    # Cost of equity (CAPM)\n",
    "    cost_equity = risk_free + beta * mrp\n",
    "\n",
    "    # Cost of debt: interest expense / total debt\n",
    "    int_exp = abs(income['Interest Expense'].iloc[-1])  # use latest year\n",
    "    cost_debt = (int_exp / total_debt) if total_debt > 0 else 0.0\n",
    "\n",
    "    # Market cap\n",
    "    shares_out = tkr.get_shares_full().iloc[-1]\n",
    "    market_cap = shares_out * price_hist['Close'].iloc[-1]\n",
    "\n",
    "    # Weights\n",
    "    total_value = market_cap + total_debt\n",
    "    w_e = market_cap / total_value\n",
    "    w_d = total_debt / total_value\n",
    "\n",
    "    # Tax rate\n",
    "    ebt = income['EBIT'].iloc[-1]\n",
    "    tax_exp = income['Tax Provision'].iloc[-1]\n",
    "    tax_rate = tax_exp / ebt if ebt else 0.21\n",
    "\n",
    "    wacc = w_e * cost_equity + w_d * cost_debt * (1 - tax_rate)\n",
    "    return wacc, cost_equity, cost_debt, w_e, w_d, tax_rate\n",
    "\n",
    "wacc_mu, cost_equity, cost_debt, w_e, w_d, tax_rate = compute_wacc(beta, income, balance, price_hist)\n",
    "print(f\"Computed WACC: {wacc_mu:.2%}  |  Cost of Equity: {cost_equity:.2%}  |  Cost of Debt: {cost_debt:.2%}\")"
   ]
  },
  {
   "cell_type": "markdown",
   "id": "5856dcb8",
   "metadata": {},
   "source": [
    "## 3  Inputs & Assumptions"
   ]
  },
  {
   "cell_type": "code",
   "execution_count": 94,
   "id": "919b9372",
   "metadata": {},
   "outputs": [],
   "source": [
    "# # ----- Backlog parameters LMT -----\n",
    "# backlog_current = 176e9  # USD, FY‑2024 year‑end backlog from press release\n",
    "# burn_schedule = [0.20, 0.18, 0.17, 0.15, 0.13]  # fraction of backlog recognized as revenue each forecast year\n",
    "# book_to_bill = 1.0  # new orders as % of burn (1.0 => replace exactly what you burn)\n",
    "# fcf_margin = 0.074   # FCF as % of revenue (historical avg ~7%)\n",
    "\n",
    "# # ----- Monte Carlo parameters -----\n",
    "# growth_sigma_non_backlog = 0.03  # σ for growth of NEW orders beyond backlog visibility\n",
    "# wacc_sigma = 0.01\n",
    "# terminal_growth_mu = 0.02\n",
    "# tg_sigma = 0.005\n",
    "# forecast_years = len(burn_schedule)\n"
   ]
  },
  {
   "cell_type": "code",
   "execution_count": 95,
   "id": "644aa902",
   "metadata": {},
   "outputs": [],
   "source": [
    "# # ----- Backlog parameters (RTX) -----\n",
    "# backlog_current      = 218e9      # USD, cuối năm 2024\n",
    "# burn_schedule        = [0.25, 0.22, 0.20, 0.17, 0.14]  # 25 %  ghi nhận năm 1; giảm dần về 14 % năm 5\n",
    "# book_to_bill         = 1.39       # đơn mới = 1,39 × doanh thu\n",
    "# fcf_margin           = 0.049      # FCF / Doanh thu ~5,6 %\n",
    "\n",
    "# # ----- Monte Carlo parameters -----\n",
    "# growth_sigma_non_backlog = 0.035   # biến động lớn hơn do mảng hàng không thương mại\n",
    "# wacc_sigma              = 0.01     # giữ nguyên\n",
    "# terminal_growth_mu      = 0.02     # GDP thực dài hạn\n",
    "# tg_sigma                = 0.005\n",
    "# forecast_years          = len(burn_schedule)  # 5 năm\n"
   ]
  },
  {
   "cell_type": "code",
   "execution_count": 96,
   "id": "5155abc3",
   "metadata": {},
   "outputs": [],
   "source": [
    "# # ----- Backlog parameters (NOC) -----\n",
    "# backlog_current      = 92.8e9      # USD, Q1-2025 backlog kỷ lục 92,8 B$ :contentReference[oaicite:0]{index=0}\n",
    "# burn_schedule        = [0.40, 0.25, 0.18, 0.10, 0.07]  # 40 % ghi nhận năm 1; 65 % trong 2 năm đầu  :contentReference[oaicite:1]{index=1}\n",
    "# book_to_bill         = 1.23        # Book-to-bill FY-2024 1,23×  :contentReference[oaicite:2]{index=2}\n",
    "# fcf_margin           = 0.062       # 2,6 B$ FCF / 41,0 B$ doanh thu ≈ 6,2 %  :contentReference[oaicite:3]{index=3}\n",
    "\n",
    "# # ----- Monte Carlo parameters -----\n",
    "# growth_sigma_non_backlog = 0.025   # NOC backlog ổn định → σ thấp hơn RTX\n",
    "# wacc_sigma              = 0.01     # giữ nguyên\n",
    "# terminal_growth_mu      = 0.02     # GDP thực dài hạn\n",
    "# tg_sigma                = 0.005\n",
    "# forecast_years          = len(burn_schedule)  # 5 năm\n"
   ]
  },
  {
   "cell_type": "code",
   "execution_count": 97,
   "id": "d670c86a",
   "metadata": {},
   "outputs": [],
   "source": [
    "# # ----- Backlog parameters (GD) -----\n",
    "# backlog_current      = 144e9      # USD, backlog cuối FY-2024 :contentReference[oaicite:0]{index=0}\n",
    "# burn_schedule        = [0.40, 0.25, 0.18, 0.10, 0.07]  # 40 % ghi nhận năm 1; 65 % trong 2 năm đầu :contentReference[oaicite:1]{index=1}\n",
    "# book_to_bill         = 1.0       # FY-2024 = 1.0; Q3-24 = 1.1 ⇒ lấy trung bình 1.05 :contentReference[oaicite:2]{index=2}\n",
    "# fcf_margin           = 0.07       # FCF $3.196 B ÷ Doanh thu $47.716 B ≈ 6.7 % :contentReference[oaicite:3]{index=3}\n",
    "\n",
    "# # ----- Monte Carlo parameters -----\n",
    "# growth_sigma_non_backlog = 0.030   # GD có Gulfstream (biến động) + tàu ngầm (ổn định) → σ vừa phải\n",
    "# wacc_sigma              = 0.01     # giữ mặc định\n",
    "# terminal_growth_mu      = 0.02     # tăng trưởng GDP thực dài hạn\n",
    "# tg_sigma                = 0.005\n",
    "# forecast_years          = len(burn_schedule)  # 5 năm\n"
   ]
  },
  {
   "cell_type": "code",
   "execution_count": 98,
   "id": "bd539c5d",
   "metadata": {},
   "outputs": [],
   "source": [
    "# # ----- Backlog parameters (BA) -----\n",
    "# backlog_current      = 522e9     # USD — tổng backlog Q4-2024 ≈ $521–524 B  :contentReference[oaicite:0]{index=0}\n",
    "# burn_schedule        = [0.13, 0.12, 0.11, 0.10, 0.09]  # Doanh thu 2024 ($66.5 B) ≈ 12.8 % backlog → giả định giảm dần  :contentReference[oaicite:1]{index=1}\n",
    "# book_to_bill         = 1.00      # 2024 YTD dao động 0.93–1.10 ⇒ lấy trung bình 1.0  :contentReference[oaicite:2]{index=2}\n",
    "# fcf_margin           = 0.07  # FCF 2024 = −$14.3 B trên doanh thu $66.5 B → −21.5 %  :contentReference[oaicite:3]{index=3}\n",
    "\n",
    "# # ----- Monte Carlo parameters -----\n",
    "# growth_sigma_non_backlog = 0.040  # biến động đơn mới cao (thương mại + quốc phòng)\n",
    "# wacc_sigma              = 0.010   # giữ mặc định\n",
    "# terminal_growth_mu      = 0.020   # GDP thực dài hạn\n",
    "# tg_sigma                = 0.005\n",
    "# forecast_years          = len(burn_schedule)  # 5 năm\n"
   ]
  },
  {
   "cell_type": "code",
   "execution_count": 99,
   "id": "3385f35a",
   "metadata": {},
   "outputs": [],
   "source": [
    "# # ----- Backlog parameters (LHX) -----\n",
    "# backlog_current      = 34e9       # USD, backlog kỷ lục FY-2024\n",
    "# burn_schedule        = [0.25, 0.22, 0.18, 0.15, 0.12]  # ≈28 % năm 1, 60 % trong 2 năm đầu\n",
    "# book_to_bill         = 1.14       # FY-2024 orders 24.2 B$ vs revenue 21.3 B$\n",
    "# fcf_margin           = 0.1009      # 2.319 B FCF ÷ 21.325 B doanh thu\n",
    "\n",
    "# # ----- Monte Carlo parameters -----\n",
    "# growth_sigma_non_backlog = 0.030   # trung bình (ổn định hơn RTX, biến động hơn NOC)\n",
    "# wacc_sigma              = 0.010   # giữ mặc định\n",
    "# terminal_growth_mu      = 0.020   # GDP thực dài hạn\n",
    "# tg_sigma                = 0.005\n",
    "# forecast_years          = len(burn_schedule)  # 5 năm\n"
   ]
  },
  {
   "cell_type": "code",
   "execution_count": 100,
   "id": "ab266b7a",
   "metadata": {},
   "outputs": [],
   "source": [
    "# # ----- Backlog parameters (TXT) -----\n",
    "# backlog_current      = 17.9e9     # USD – tổng backlog cuối FY-2024 :contentReference[oaicite:0]{index=0}\n",
    "# burn_schedule        = [0.25, 0.21, 0.19, 0.16, 0.13]  # ~28 % backlog ghi nhận năm 1; ~63 % trong 2 năm đầu (tương ứng backlog ≈ 1,3× doanh thu) :contentReference[oaicite:1]{index=1}\n",
    "# book_to_bill         = 1.20       # Aviation book-to-bill 1.2× Q4-2024; tổng công ty ≈1.14 – chọn 1.20 để phản ánh nhu cầu cao :contentReference[oaicite:2]{index=2}\n",
    "# fcf_margin           = 0.0474      # 692 M$ manufacturing FCF ÷ 13.70 B$ doanh thu ≈ 5 % :contentReference[oaicite:3]{index=3}\n",
    "\n",
    "# # ----- Monte Carlo parameters -----\n",
    "# growth_sigma_non_backlog = 0.08   # cao vì đơn hàng máy bay thương mại chịu chu kỳ vĩ mô :contentReference[oaicite:4]{index=4}\n",
    "# wacc_sigma              = 0.010   # giữ mặc định\n",
    "# terminal_growth_mu      = 0.04   # tăng trưởng GDP thực dài hạn\n",
    "# tg_sigma                = 0.005\n",
    "# forecast_years          = len(burn_schedule)  # 5 năm\n"
   ]
  },
  {
   "cell_type": "code",
   "execution_count": 101,
   "id": "094737b1",
   "metadata": {},
   "outputs": [],
   "source": [
    "# # ----- Backlog parameters (HII) -----\n",
    "# backlog_current      = 48.7e9     # USD, backlog cuối FY-2024  :contentReference[oaicite:3]{index=3}\n",
    "# burn_schedule        = [0.24, 0.22, 0.20, 0.17, 0.15]  # ~24 % ghi nhận năm 1; ~46 % trong 2 năm đầu  :contentReference[oaicite:4]{index=4}\n",
    "# book_to_bill         = 1.30       # funded book-to-bill 1.3× FY-24 (2.2× Q3)  :contentReference[oaicite:5]{index=5}\n",
    "# fcf_margin           = 0.0023      # FCF trung hạn ~3,5 % (2024 = 0,35 %; 2023 = 6 %)  :contentReference[oaicite:6]{index=6}\n",
    "\n",
    "# # ----- Monte Carlo parameters -----\n",
    "# growth_sigma_non_backlog = 0.025   # biến động đơn mới thấp hơn TXT, cao hơn NOC  :contentReference[oaicite:7]{index=7}\n",
    "# wacc_sigma              = 0.010   # mặc định\n",
    "# terminal_growth_mu      = 0.020   # GDP thực dài hạn\n",
    "# tg_sigma                = 0.005\n",
    "# forecast_years          = len(burn_schedule)  # 5 năm\n"
   ]
  },
  {
   "cell_type": "code",
   "execution_count": 102,
   "id": "4c7a2a46",
   "metadata": {},
   "outputs": [],
   "source": [
    "# # ----- Backlog parameters (AVAV) -----\n",
    "# backlog_current      = 1.2e9    # USD – funded backlog 30-Apr-2025: $726.6 M :contentReference[oaicite:0]{index=0}\n",
    "# burn_schedule        = [0.4, 0.25, 0.10, 0.05, 0.00]  # 92 % backlog ghi nhận trong 12 tháng ⇒ burn 60 % năm 1 :contentReference[oaicite:1]{index=1}\n",
    "# book_to_bill         = 1.46        # FY-25 bookings $1.20 B trên doanh thu $0.82 B → 1.46 × :contentReference[oaicite:2]{index=2}\n",
    "# fcf_margin           = -0.03      # FY-24 FCF −$25.3 M trên $0.82 B doanh thu ≈ -3 % :contentReference[oaicite:3]{index=3}\n",
    "\n",
    "# # ----- Monte Carlo parameters -----\n",
    "# growth_sigma_non_backlog = 0.045   # đơn hàng UAV chịu chu kỳ ngân sách & địa chính trị :contentReference[oaicite:4]{index=4}\n",
    "# wacc_sigma              = 0.010   # giữ mặc định\n",
    "# terminal_growth_mu      = 0.020   # GDP thực dài hạn\n",
    "# tg_sigma                = 0.005\n",
    "# forecast_years          = len(burn_schedule)  # 5 năm\n"
   ]
  },
  {
   "cell_type": "code",
   "execution_count": 109,
   "id": "d5691c38",
   "metadata": {},
   "outputs": [],
   "source": [
    "# ----- Backlog parameters (KTOS) -----\n",
    "backlog_current      = 1.445e9    # USD – funded $1.174 B + unfunded $334.5 M, 30-Mar-2025 :contentReference[oaicite:0]{index=0}\n",
    "burn_schedule        = [0.55, 0.17, 0.12, 0.06, 0.02]   # ~55 % backlog thu về 12 tháng; 92 % trong 3 năm :contentReference[oaicite:1]{index=1}\n",
    "book_to_bill         = 1.20        # FY-2024 book-to-bill 1.2 × (consolidated) :contentReference[oaicite:2]{index=2}\n",
    "fcf_margin           = 0.04      # FY-2024 FCF –$8.5 M ÷ $1.136 B doanh thu ≈ –0.8 % :contentReference[oaicite:3]{index=3}\n",
    "\n",
    "# ----- Monte Carlo parameters -----\n",
    "growth_sigma_non_backlog = 0.040   # đơn UAV & hypersonic rất biến động (chi ngân sách thay đổi) :contentReference[oaicite:4]{index=4}\n",
    "wacc_sigma              = 0.010   # giữ mặc định\n",
    "terminal_growth_mu      = 0.020   # GDP thực dài hạn\n",
    "tg_sigma                = 0.005\n",
    "forecast_years          = len(burn_schedule)  # 5 năm\n"
   ]
  },
  {
   "cell_type": "markdown",
   "id": "71e760b2",
   "metadata": {},
   "source": [
    "## 4  Monte Carlo valuation (10 000 sims)"
   ]
  },
  {
   "cell_type": "code",
   "execution_count": 110,
   "id": "915be725",
   "metadata": {},
   "outputs": [
    {
     "name": "stdout",
     "output_type": "stream",
     "text": [
      "Sim complete; preview: [0.78037355 0.74659478 0.82729294 0.75746202 0.79567025]\n"
     ]
    }
   ],
   "source": [
    "def simulate_valuation(n_sims=10000):\n",
    "    results = []\n",
    "    for _ in range(n_sims):\n",
    "        # Draw WACC and terminal g\n",
    "        w = np.random.normal(wacc_mu, wacc_sigma)\n",
    "        tg = np.random.normal(terminal_growth_mu, tg_sigma)\n",
    "        w = np.clip(w, 0.03, 0.12)\n",
    "        tg = np.clip(tg, 0.0, 0.04)\n",
    "\n",
    "        revenue_proj = []\n",
    "        backlog = backlog_current\n",
    "        for burn_frac in burn_schedule:\n",
    "            burn_amt = backlog * burn_frac\n",
    "            new_orders = burn_amt * book_to_bill * (1 + np.random.normal(0, growth_sigma_non_backlog))\n",
    "            revenue_year = burn_amt + new_orders\n",
    "            revenue_proj.append(revenue_year)\n",
    "            backlog -= burn_amt\n",
    "            backlog += new_orders  # add new backlog\n",
    "\n",
    "        fcf_proj = np.array(revenue_proj) * fcf_margin\n",
    "        pv_fcf = sum(fcf_proj[i] / (1 + w) ** (i+1) for i in range(forecast_years))\n",
    "\n",
    "        # Terminal Value on year after forecast using last projected FCF\n",
    "        terminal_fcf = fcf_proj[-1] * (1 + tg)\n",
    "        tv = terminal_fcf / (w - tg)\n",
    "        tv_pv = tv / (1 + w) ** forecast_years\n",
    "\n",
    "        ev = pv_fcf + tv_pv\n",
    "        shares_out = tkr.get_shares_full().iloc[-1]\n",
    "        equity_ps = ev / shares_out\n",
    "        results.append(equity_ps)\n",
    "    return np.array(results)\n",
    "\n",
    "mc_results = simulate_valuation(n_sims=10000)\n",
    "print(\"Sim complete; preview:\", mc_results[:5])"
   ]
  },
  {
   "cell_type": "code",
   "execution_count": 111,
   "id": "d651981e",
   "metadata": {},
   "outputs": [
    {
     "data": {
      "image/png": "[encoded data removed]",
      "text/plain": [
       "<Figure size 1000x600 with 1 Axes>"
      ]
     },
     "metadata": {},
     "output_type": "display_data"
    }
   ],
   "source": [
    "plt.hist(mc_results, bins=60)\n",
    "plt.title('Intrinsic Value per Share — Backlog‑Aware Monte Carlo')\n",
    "plt.xlabel('$ per share')\n",
    "plt.ylabel('Frequency')\n",
    "plt.axvline(price_hist['Close'].iloc[-1], linestyle='--', label='Market Price')\n",
    "plt.legend()\n",
    "plt.tight_layout()"
   ]
  },
  {
   "cell_type": "code",
   "execution_count": 112,
   "id": "9d4763a4",
   "metadata": {},
   "outputs": [
    {
     "name": "stdout",
     "output_type": "stream",
     "text": [
      "5th percentile: $0.72\n",
      "25th percentile: $0.75\n",
      "50th percentile: $0.78\n",
      "75th percentile: $0.81\n",
      "95th percentile: $0.86\n",
      "\n",
      "Mean intrinsic value: $0.78\n",
      "Current market price: $51.76\n"
     ]
    }
   ],
   "source": [
    "pctls = [5,25,50,75,95]\n",
    "values = np.percentile(mc_results, pctls)\n",
    "for p,v in zip(pctls, values):\n",
    "    print(f\"{p}th percentile: ${v:,.2f}\")\n",
    "print(f\"\\nMean intrinsic value: ${mc_results.mean():,.2f}\")\n",
    "print(f\"Current market price: ${price_hist['Close'].iloc[-1]:.2f}\")"
   ]
  },
  {
   "cell_type": "markdown",
   "id": "6ef7bffb",
   "metadata": {},
   "source": [
    "## 5  Template applicability to other sectors\n",
    "To use this backlog‑aware template for a **different company or sector**, adjust:\n",
    "1. **`backlog_current` & `burn_schedule`** — if the firm doesn’t disclose backlog, set these to 0 and rely on growth assumptions like the original DCF.\n",
    "2. **`fcf_margin`** — use sector‐specific historical margin.\n",
    "3. **`growth_sigma_non_backlog`** — industries with volatile demand (e.g., semiconductors) use higher σ.\n",
    "4. **Capital intensity** — for banks/insurers, replace FCF with **dividend discount** or excess return models; DCF may be less informative.\n",
    "\n",
    "> **Bottom line:** The Monte Carlo & dynamic WACC scaffolding is reusable, but **inputs/assumptions must reflect sector economics**."
   ]
  }
 ],
 "metadata": {
  "kernelspec": {
   "display_name": "Python 3",
   "language": "python",
   "name": "python3"
  },
  "language_info": {
   "codemirror_mode": {
    "name": "ipython",
    "version": 3
   },
   "file_extension": ".py",
   "mimetype": "text/x-python",
   "name": "python",
   "nbconvert_exporter": "python",
   "pygments_lexer": "ipython3",
   "version": "3.12.0"
  }
 },
 "nbformat": 4,
 "nbformat_minor": 5
}
